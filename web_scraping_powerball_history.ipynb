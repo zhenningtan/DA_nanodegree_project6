{
 "cells": [
  {
   "cell_type": "code",
   "execution_count": 24,
   "metadata": {
    "collapsed": false
   },
   "outputs": [],
   "source": [
    "from bs4 import BeautifulSoup \n",
    "import urllib"
   ]
  },
  {
   "cell_type": "code",
   "execution_count": 25,
   "metadata": {
    "collapsed": false
   },
   "outputs": [],
   "source": [
    "url = 'http://www.powerball.com/powerball/pb_nbr_history.asp?startDate=7%2F29%2F2016&endDate=10%2F7%2F2015'"
   ]
  },
  {
   "cell_type": "code",
   "execution_count": 26,
   "metadata": {
    "collapsed": false
   },
   "outputs": [],
   "source": [
    "page = urllib.urlopen(url).read()"
   ]
  },
  {
   "cell_type": "code",
   "execution_count": 27,
   "metadata": {
    "collapsed": false
   },
   "outputs": [],
   "source": [
    "soup = BeautifulSoup(page)"
   ]
  },
  {
   "cell_type": "code",
   "execution_count": 28,
   "metadata": {
    "collapsed": false
   },
   "outputs": [],
   "source": [
    "tags = soup.find_all(\"tr\", {\"valign\": \"middle\"})"
   ]
  },
  {
   "cell_type": "code",
   "execution_count": 29,
   "metadata": {
    "collapsed": false
   },
   "outputs": [
    {
     "name": "stdout",
     "output_type": "stream",
     "text": [
      "[['7/27/2016', 10, 47, 50, 65, 68, 24], ['7/23/2016', 5, 7, 23, 35, 39, 11], ['7/20/2016', 6, 25, 35, 58, 66, 5], ['7/16/2016', 11, 17, 40, 50, 62, 26], ['7/13/2016', 3, 15, 29, 54, 57, 10], ['7/9/2016', 10, 28, 32, 61, 64, 12], ['7/6/2016', 2, 24, 31, 57, 66, 18], ['7/2/2016', 10, 34, 39, 59, 63, 4], ['6/29/2016', 23, 29, 37, 60, 64, 6], ['6/25/2016', 3, 27, 36, 56, 69, 25]]\n"
     ]
    }
   ],
   "source": [
    "all_draws = []\n",
    "for draw in tags:\n",
    "    each_draw = []\n",
    "    date = str(draw.td.b.string)\n",
    "    each_draw.append(date)\n",
    "     \n",
    "    num_tag = draw.find_all('td')\n",
    "    for i in range(1,6):  # skip the first 'td' element which represents date\n",
    "        num = int(num_tag[i].string)\n",
    "        each_draw.append(num)\n",
    "    each_draw.append(int(num_tag[7].string))\n",
    "    \n",
    "    all_draws.append(each_draw)\n",
    "\n",
    "print all_draws[:10]\n"
   ]
  },
  {
   "cell_type": "code",
   "execution_count": 30,
   "metadata": {
    "collapsed": false
   },
   "outputs": [
    {
     "data": {
      "text/plain": [
       "['10/7/2015', 18, 30, 40, 48, 52, 9]"
      ]
     },
     "execution_count": 30,
     "metadata": {},
     "output_type": "execute_result"
    }
   ],
   "source": [
    "all_draws[-1]"
   ]
  },
  {
   "cell_type": "code",
   "execution_count": 31,
   "metadata": {
    "collapsed": true
   },
   "outputs": [],
   "source": [
    "import csv"
   ]
  },
  {
   "cell_type": "code",
   "execution_count": 32,
   "metadata": {
    "collapsed": false
   },
   "outputs": [
    {
     "name": "stdout",
     "output_type": "stream",
     "text": [
      "[Error 3] The system cannot find the path specified: u'C:/Users/Zhenning/Desktop/Code/practice'\n",
      "C:\\Users\\Zhenning\\Documents\\Code\\practice\n"
     ]
    }
   ],
   "source": [
    "cd \"C:\\Users\\Zhenning\\Desktop\\Code\\practice\""
   ]
  },
  {
   "cell_type": "code",
   "execution_count": 33,
   "metadata": {
    "collapsed": false
   },
   "outputs": [
    {
     "name": "stdout",
     "output_type": "stream",
     "text": [
      "done writing file\n"
     ]
    }
   ],
   "source": [
    "headers = [\"date\", \"n1\", \"n2\", \"n3\", \"n4\", \"n5\", \"red\"]\n",
    "with open(\"powerball_history_period.csv\", 'wb') as f:\n",
    "    output = csv.writer(f, delimiter = ',') \n",
    "    output.writerow(headers)\n",
    "    for draw in all_draws:\n",
    "        output.writerow(draw)\n",
    "\n",
    "print \"done writing file\""
   ]
  },
  {
   "cell_type": "code",
   "execution_count": 34,
   "metadata": {
    "collapsed": false
   },
   "outputs": [],
   "source": [
    "import matplotlib.pyplot as plt\n",
    "%matplotlib inline  "
   ]
  },
  {
   "cell_type": "code",
   "execution_count": 35,
   "metadata": {
    "collapsed": true
   },
   "outputs": [],
   "source": [
    "sum_white_ball = [sum(i[1:-1]) for i in all_draws]"
   ]
  },
  {
   "cell_type": "code",
   "execution_count": 36,
   "metadata": {
    "collapsed": false
   },
   "outputs": [
    {
     "data": {
      "image/png": "[encoded data removed]",
      "text/plain": [
       "<matplotlib.figure.Figure at 0xdc073c8>"
      ]
     },
     "metadata": {},
     "output_type": "display_data"
    }
   ],
   "source": [
    "plt.hist(sum_white_ball, 50)\n",
    "plt.show()"
   ]
  },
  {
   "cell_type": "code",
   "execution_count": 39,
   "metadata": {
    "collapsed": false
   },
   "outputs": [
    {
     "data": {
      "image/png": "[encoded data removed]",
      "text/plain": [
       "<matplotlib.figure.Figure at 0x10583438>"
      ]
     },
     "metadata": {},
     "output_type": "display_data"
    }
   ],
   "source": [
    "red_ball = [i[-1] for i in all_draws]  # all red ball number\n",
    "plt.hist(red_ball, bins = 26)\n",
    "plt.show()"
   ]
  },
  {
   "cell_type": "code",
   "execution_count": 38,
   "metadata": {
    "collapsed": false
   },
   "outputs": [
    {
     "data": {
      "text/plain": [
       "85"
      ]
     },
     "execution_count": 38,
     "metadata": {},
     "output_type": "execute_result"
    }
   ],
   "source": [
    "len(red_ball)"
   ]
  }
 ],
 "metadata": {
  "kernelspec": {
   "display_name": "Python 2",
   "language": "python",
   "name": "python2"
  },
  "language_info": {
   "codemirror_mode": {
    "name": "ipython",
    "version": 2
   },
   "file_extension": ".py",
   "mimetype": "text/x-python",
   "name": "python",
   "nbconvert_exporter": "python",
   "pygments_lexer": "ipython2",
   "version": "2.7.11"
  }
 },
 "nbformat": 4,
 "nbformat_minor": 0
}
